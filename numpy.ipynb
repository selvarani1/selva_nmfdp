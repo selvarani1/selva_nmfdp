{
 "cells": [
  {
   "cell_type": "code",
   "execution_count": null,
   "metadata": {
    "id": "vhEFFHL9RGG2"
   },
   "outputs": [],
   "source": []
  },
  {
   "cell_type": "markdown",
   "metadata": {
    "id": "5a-KL31GS5Dg"
   },
   "source": [
    "numpy example"
   ]
  },
  {
   "cell_type": "code",
   "execution_count": null,
   "metadata": {
    "id": "eRGEQownTDZF"
   },
   "outputs": [],
   "source": [
    "import numpy as np"
   ]
  },
  {
   "cell_type": "code",
   "execution_count": null,
   "metadata": {
    "colab": {
     "base_uri": "https://localhost:8080/"
    },
    "executionInfo": {
     "elapsed": 73,
     "status": "ok",
     "timestamp": 1750070131861,
     "user": {
      "displayName": "Selvarani Munisamy",
      "userId": "05995875990264584122"
     },
     "user_tz": -330
    },
    "id": "07BpnGkdTUiZ",
    "outputId": "4f5390d6-d937-4bf3-aef6-9fcc1d035bb0"
   },
   "outputs": [
    {
     "name": "stdout",
     "output_type": "stream",
     "text": [
      "<class 'numpy.ndarray'>\n"
     ]
    }
   ],
   "source": [
    "ZeroD=np.array(46)\n",
    "print (type(ZeroD))"
   ]
  },
  {
   "cell_type": "code",
   "execution_count": null,
   "metadata": {
    "colab": {
     "base_uri": "https://localhost:8080/"
    },
    "executionInfo": {
     "elapsed": 68,
     "status": "ok",
     "timestamp": 1750135652099,
     "user": {
      "displayName": "Selvarani Munisamy",
      "userId": "05995875990264584122"
     },
     "user_tz": -330
    },
    "id": "1OteiRmyT8_F",
    "outputId": "48090c8f-0f7b-4bd0-c193-2339a247aaca"
   },
   "outputs": [
    {
     "data": {
      "text/plain": [
       "array([12, 45, 89, 47, 45, 78, 89])"
      ]
     },
     "execution_count": 4,
     "metadata": {},
     "output_type": "execute_result"
    }
   ],
   "source": [
    "OneD=np.array([12,45,89,47,45,78,89])\n",
    "OneD"
   ]
  },
  {
   "cell_type": "code",
   "execution_count": null,
   "metadata": {
    "colab": {
     "base_uri": "https://localhost:8080/"
    },
    "executionInfo": {
     "elapsed": 32,
     "status": "ok",
     "timestamp": 1750135670291,
     "user": {
      "displayName": "Selvarani Munisamy",
      "userId": "05995875990264584122"
     },
     "user_tz": -330
    },
    "id": "9Hgq41JvW52B",
    "outputId": "318afd77-d319-499a-badb-d138dfa272fd"
   },
   "outputs": [
    {
     "data": {
      "text/plain": [
       "1"
      ]
     },
     "execution_count": 6,
     "metadata": {},
     "output_type": "execute_result"
    }
   ],
   "source": [
    "np.ndim(OneD)"
   ]
  },
  {
   "cell_type": "code",
   "execution_count": null,
   "metadata": {
    "colab": {
     "base_uri": "https://localhost:8080/"
    },
    "executionInfo": {
     "elapsed": 89,
     "status": "ok",
     "timestamp": 1750135672984,
     "user": {
      "displayName": "Selvarani Munisamy",
      "userId": "05995875990264584122"
     },
     "user_tz": -330
    },
    "id": "-qJ7z7M3UZ6w",
    "outputId": "79e2ccde-c49e-4ab4-8b51-dfb69972707d"
   },
   "outputs": [
    {
     "data": {
      "text/plain": [
       "array([[ 1,  2,  3,  4],\n",
       "       [ 5,  6,  7,  8],\n",
       "       [ 9, 10, 11, 12],\n",
       "       [13, 14, 15, 16]])"
      ]
     },
     "execution_count": 7,
     "metadata": {},
     "output_type": "execute_result"
    }
   ],
   "source": [
    "TwoD=np.array([[1,2,3,4],[5,6,7,8],[9,10,11,12],[13,14,15,16]])\n",
    "TwoD"
   ]
  },
  {
   "cell_type": "code",
   "execution_count": null,
   "metadata": {
    "colab": {
     "base_uri": "https://localhost:8080/"
    },
    "executionInfo": {
     "elapsed": 76,
     "status": "ok",
     "timestamp": 1750135675595,
     "user": {
      "displayName": "Selvarani Munisamy",
      "userId": "05995875990264584122"
     },
     "user_tz": -330
    },
    "id": "rhoTHCj_WkK0",
    "outputId": "5bd53a9e-e189-4fe8-961e-2afa26e2d61f"
   },
   "outputs": [
    {
     "data": {
      "text/plain": [
       "2"
      ]
     },
     "execution_count": 8,
     "metadata": {},
     "output_type": "execute_result"
    }
   ],
   "source": [
    "np.ndim(TwoD)"
   ]
  },
  {
   "cell_type": "code",
   "execution_count": null,
   "metadata": {
    "colab": {
     "base_uri": "https://localhost:8080/"
    },
    "executionInfo": {
     "elapsed": 54,
     "status": "ok",
     "timestamp": 1750135676993,
     "user": {
      "displayName": "Selvarani Munisamy",
      "userId": "05995875990264584122"
     },
     "user_tz": -330
    },
    "id": "S1EHK5WUVFZC",
    "outputId": "f56880f3-9f69-4842-ddd4-5487a7aad8ac"
   },
   "outputs": [
    {
     "data": {
      "text/plain": [
       "array([[[ 1,  2,  3,  4],\n",
       "        [ 5,  6,  7,  8],\n",
       "        [ 9, 10, 11, 12],\n",
       "        [ 1,  2,  3,  4]]])"
      ]
     },
     "execution_count": 9,
     "metadata": {},
     "output_type": "execute_result"
    }
   ],
   "source": [
    "ThreeD=np.array([[[1,2,3,4],[5,6,7,8],[9,10,11,12],[1,2,3,4]]])\n",
    "ThreeD"
   ]
  },
  {
   "cell_type": "code",
   "execution_count": null,
   "metadata": {
    "colab": {
     "base_uri": "https://localhost:8080/"
    },
    "executionInfo": {
     "elapsed": 34,
     "status": "ok",
     "timestamp": 1750135679369,
     "user": {
      "displayName": "Selvarani Munisamy",
      "userId": "05995875990264584122"
     },
     "user_tz": -330
    },
    "id": "QGLATd_rWDdo",
    "outputId": "39c27ab4-c1d8-48a8-be60-0536e783b58c"
   },
   "outputs": [
    {
     "data": {
      "text/plain": [
       "3"
      ]
     },
     "execution_count": 10,
     "metadata": {},
     "output_type": "execute_result"
    }
   ],
   "source": [
    "np.ndim(ThreeD)"
   ]
  },
  {
   "cell_type": "code",
   "execution_count": null,
   "metadata": {
    "colab": {
     "base_uri": "https://localhost:8080/"
    },
    "executionInfo": {
     "elapsed": 71,
     "status": "ok",
     "timestamp": 1750135681081,
     "user": {
      "displayName": "Selvarani Munisamy",
      "userId": "05995875990264584122"
     },
     "user_tz": -330
    },
    "id": "703B_4FeXKZb",
    "outputId": "12582883-dcd6-49e1-c4e8-982ce6147e3f"
   },
   "outputs": [
    {
     "data": {
      "text/plain": [
       "16"
      ]
     },
     "execution_count": 11,
     "metadata": {},
     "output_type": "execute_result"
    }
   ],
   "source": [
    "np.size(TwoD)"
   ]
  },
  {
   "cell_type": "code",
   "execution_count": null,
   "metadata": {
    "colab": {
     "base_uri": "https://localhost:8080/"
    },
    "executionInfo": {
     "elapsed": 66,
     "status": "ok",
     "timestamp": 1750135682202,
     "user": {
      "displayName": "Selvarani Munisamy",
      "userId": "05995875990264584122"
     },
     "user_tz": -330
    },
    "id": "OUK2xudpXgDk",
    "outputId": "72be5753-af11-43c6-f2c3-bc7c11688d0d"
   },
   "outputs": [
    {
     "data": {
      "text/plain": [
       "(4, 4)"
      ]
     },
     "execution_count": 12,
     "metadata": {},
     "output_type": "execute_result"
    }
   ],
   "source": [
    "np.shape(TwoD)"
   ]
  },
  {
   "cell_type": "code",
   "execution_count": null,
   "metadata": {
    "colab": {
     "base_uri": "https://localhost:8080/"
    },
    "executionInfo": {
     "elapsed": 72,
     "status": "ok",
     "timestamp": 1750135690562,
     "user": {
      "displayName": "Selvarani Munisamy",
      "userId": "05995875990264584122"
     },
     "user_tz": -330
    },
    "id": "IPbQQkXbXr0Z",
    "outputId": "fe3cef80-dcc1-4272-deb5-a0f5b922b693"
   },
   "outputs": [
    {
     "name": "stdout",
     "output_type": "stream",
     "text": [
      "<class 'numpy.ndarray'>\n"
     ]
    }
   ],
   "source": [
    "print(type(ThreeD))"
   ]
  },
  {
   "cell_type": "code",
   "execution_count": null,
   "metadata": {
    "colab": {
     "base_uri": "https://localhost:8080/"
    },
    "executionInfo": {
     "elapsed": 32,
     "status": "ok",
     "timestamp": 1750135657015,
     "user": {
      "displayName": "Selvarani Munisamy",
      "userId": "05995875990264584122"
     },
     "user_tz": -330
    },
    "id": "TgH8RIQ1Ygxz",
    "outputId": "6a409770-66d5-44da-da0a-038f28b5774e"
   },
   "outputs": [
    {
     "name": "stdout",
     "output_type": "stream",
     "text": [
      "7\n"
     ]
    }
   ],
   "source": [
    "print(len(OneD))"
   ]
  },
  {
   "cell_type": "code",
   "execution_count": null,
   "metadata": {
    "colab": {
     "base_uri": "https://localhost:8080/"
    },
    "executionInfo": {
     "elapsed": 48,
     "status": "ok",
     "timestamp": 1750135786744,
     "user": {
      "displayName": "Selvarani Munisamy",
      "userId": "05995875990264584122"
     },
     "user_tz": -330
    },
    "id": "8cgNeEGaN2ws",
    "outputId": "5b1f1415-2012-4c82-e41d-471be2a30c23"
   },
   "outputs": [
    {
     "data": {
      "text/plain": [
       "array([1, 3, 5, 7, 9])"
      ]
     },
     "execution_count": 14,
     "metadata": {},
     "output_type": "execute_result"
    }
   ],
   "source": [
    "np.arange(1,10,2)"
   ]
  },
  {
   "cell_type": "code",
   "execution_count": null,
   "metadata": {
    "colab": {
     "base_uri": "https://localhost:8080/"
    },
    "executionInfo": {
     "elapsed": 66,
     "status": "ok",
     "timestamp": 1750135895366,
     "user": {
      "displayName": "Selvarani Munisamy",
      "userId": "05995875990264584122"
     },
     "user_tz": -330
    },
    "id": "7FeZXPY8OfOv",
    "outputId": "8d73f841-40dd-44ae-bf27-861b53521405"
   },
   "outputs": [
    {
     "data": {
      "text/plain": [
       "array([10, 13, 16, 19, 22, 25, 28])"
      ]
     },
     "execution_count": 16,
     "metadata": {},
     "output_type": "execute_result"
    }
   ],
   "source": [
    "np.arange(10,30,3)"
   ]
  },
  {
   "cell_type": "code",
   "execution_count": null,
   "metadata": {
    "colab": {
     "base_uri": "https://localhost:8080/"
    },
    "executionInfo": {
     "elapsed": 63,
     "status": "ok",
     "timestamp": 1750135927857,
     "user": {
      "displayName": "Selvarani Munisamy",
      "userId": "05995875990264584122"
     },
     "user_tz": -330
    },
    "id": "ZhBZ_jxpOpWT",
    "outputId": "12c2f189-a35c-42da-bb05-18aa014f4d98"
   },
   "outputs": [
    {
     "data": {
      "text/plain": [
       "array([[0., 0., 0., 0.],\n",
       "       [0., 0., 0., 0.],\n",
       "       [0., 0., 0., 0.],\n",
       "       [0., 0., 0., 0.]])"
      ]
     },
     "execution_count": 17,
     "metadata": {},
     "output_type": "execute_result"
    }
   ],
   "source": [
    "np.zeros((4,4))"
   ]
  },
  {
   "cell_type": "code",
   "execution_count": null,
   "metadata": {
    "colab": {
     "base_uri": "https://localhost:8080/"
    },
    "executionInfo": {
     "elapsed": 34,
     "status": "ok",
     "timestamp": 1750135971956,
     "user": {
      "displayName": "Selvarani Munisamy",
      "userId": "05995875990264584122"
     },
     "user_tz": -330
    },
    "id": "umai9FUlOxvE",
    "outputId": "7dc8bb67-fbff-4b67-9212-ed5540a4f9ea"
   },
   "outputs": [
    {
     "data": {
      "text/plain": [
       "array([[1., 1., 1.],\n",
       "       [1., 1., 1.],\n",
       "       [1., 1., 1.],\n",
       "       [1., 1., 1.]])"
      ]
     },
     "execution_count": 18,
     "metadata": {},
     "output_type": "execute_result"
    }
   ],
   "source": [
    "np.ones((4,3))"
   ]
  },
  {
   "cell_type": "code",
   "execution_count": null,
   "metadata": {
    "colab": {
     "base_uri": "https://localhost:8080/"
    },
    "executionInfo": {
     "elapsed": 30,
     "status": "ok",
     "timestamp": 1750136437549,
     "user": {
      "displayName": "Selvarani Munisamy",
      "userId": "05995875990264584122"
     },
     "user_tz": -330
    },
    "id": "rQcXrNxRO-6Y",
    "outputId": "6f819c06-898c-4c04-fc98-8ae47b8fcace"
   },
   "outputs": [
    {
     "data": {
      "text/plain": [
       "array([ 4.        , 11.66666667, 19.33333333, 27.        , 34.66666667,\n",
       "       42.33333333, 50.        ])"
      ]
     },
     "execution_count": 24,
     "metadata": {},
     "output_type": "execute_result"
    }
   ],
   "source": [
    "np.linspace(1,25,15)\n",
    "np.linspace(4,50,7)"
   ]
  },
  {
   "cell_type": "code",
   "execution_count": null,
   "metadata": {
    "colab": {
     "base_uri": "https://localhost:8080/"
    },
    "executionInfo": {
     "elapsed": 65,
     "status": "ok",
     "timestamp": 1750136579320,
     "user": {
      "displayName": "Selvarani Munisamy",
      "userId": "05995875990264584122"
     },
     "user_tz": -330
    },
    "id": "WRP46C_nQuQY",
    "outputId": "454f16a2-de0f-471a-cbfa-239049617cf2"
   },
   "outputs": [
    {
     "data": {
      "text/plain": [
       "array([[1., 0., 0., 0., 0., 0., 0., 0., 0., 0.],\n",
       "       [0., 1., 0., 0., 0., 0., 0., 0., 0., 0.],\n",
       "       [0., 0., 1., 0., 0., 0., 0., 0., 0., 0.],\n",
       "       [0., 0., 0., 1., 0., 0., 0., 0., 0., 0.],\n",
       "       [0., 0., 0., 0., 1., 0., 0., 0., 0., 0.],\n",
       "       [0., 0., 0., 0., 0., 1., 0., 0., 0., 0.],\n",
       "       [0., 0., 0., 0., 0., 0., 1., 0., 0., 0.],\n",
       "       [0., 0., 0., 0., 0., 0., 0., 1., 0., 0.],\n",
       "       [0., 0., 0., 0., 0., 0., 0., 0., 1., 0.],\n",
       "       [0., 0., 0., 0., 0., 0., 0., 0., 0., 1.]])"
      ]
     },
     "execution_count": 27,
     "metadata": {},
     "output_type": "execute_result"
    }
   ],
   "source": [
    "np.eye(10)"
   ]
  },
  {
   "cell_type": "code",
   "execution_count": null,
   "metadata": {
    "colab": {
     "base_uri": "https://localhost:8080/"
    },
    "executionInfo": {
     "elapsed": 76,
     "status": "ok",
     "timestamp": 1750136673195,
     "user": {
      "displayName": "Selvarani Munisamy",
      "userId": "05995875990264584122"
     },
     "user_tz": -330
    },
    "id": "OfL09hlxREDN",
    "outputId": "d915d801-408f-4186-ea2a-ed6034a3f7b0"
   },
   "outputs": [
    {
     "data": {
      "text/plain": [
       "array([0.85043347, 0.4211465 , 0.7163964 , 0.93070654])"
      ]
     },
     "execution_count": 30,
     "metadata": {},
     "output_type": "execute_result"
    }
   ],
   "source": [
    "np.random.rand(4)"
   ]
  },
  {
   "cell_type": "code",
   "execution_count": null,
   "metadata": {
    "colab": {
     "base_uri": "https://localhost:8080/"
    },
    "executionInfo": {
     "elapsed": 60,
     "status": "ok",
     "timestamp": 1750136702037,
     "user": {
      "displayName": "Selvarani Munisamy",
      "userId": "05995875990264584122"
     },
     "user_tz": -330
    },
    "id": "8hxDPHHlRPFI",
    "outputId": "6b868d81-decc-4233-ccc2-32e751c733ae"
   },
   "outputs": [
    {
     "data": {
      "text/plain": [
       "array([[[0.88194196, 0.03413824, 0.18253095, 0.16693398, 0.2364822 ],\n",
       "        [0.05394914, 0.09495416, 0.15367617, 0.13109243, 0.02399574]],\n",
       "\n",
       "       [[0.05891913, 0.41504209, 0.40115828, 0.68954442, 0.75967036],\n",
       "        [0.79792162, 0.87187365, 0.45698015, 0.16267862, 0.32158483]],\n",
       "\n",
       "       [[0.0071519 , 0.97433156, 0.78506746, 0.16415126, 0.80623798],\n",
       "        [0.64778646, 0.81237998, 0.19509763, 0.98767114, 0.76296312]],\n",
       "\n",
       "       [[0.6895359 , 0.48613737, 0.43010827, 0.13474642, 0.33816639],\n",
       "        [0.60578109, 0.24233494, 0.01688502, 0.29599578, 0.6547131 ]]])"
      ]
     },
     "execution_count": 31,
     "metadata": {},
     "output_type": "execute_result"
    }
   ],
   "source": [
    "np.random.rand(4,2,5)"
   ]
  },
  {
   "cell_type": "code",
   "execution_count": null,
   "metadata": {
    "colab": {
     "base_uri": "https://localhost:8080/"
    },
    "executionInfo": {
     "elapsed": 114,
     "status": "ok",
     "timestamp": 1750136858473,
     "user": {
      "displayName": "Selvarani Munisamy",
      "userId": "05995875990264584122"
     },
     "user_tz": -330
    },
    "id": "p47BCywARO65",
    "outputId": "2eb3d975-c8f9-476b-86ad-1219afb48955"
   },
   "outputs": [
    {
     "data": {
      "text/plain": [
       "1"
      ]
     },
     "execution_count": 34,
     "metadata": {},
     "output_type": "execute_result"
    }
   ],
   "source": [
    "np.random.randint(1,6)"
   ]
  },
  {
   "cell_type": "code",
   "execution_count": null,
   "metadata": {
    "colab": {
     "base_uri": "https://localhost:8080/"
    },
    "executionInfo": {
     "elapsed": 91,
     "status": "ok",
     "timestamp": 1750136939248,
     "user": {
      "displayName": "Selvarani Munisamy",
      "userId": "05995875990264584122"
     },
     "user_tz": -330
    },
    "id": "HMYaQRZ2STwN",
    "outputId": "2404c198-72d1-4dcb-e17b-404a18594bcd"
   },
   "outputs": [
    {
     "data": {
      "text/plain": [
       "array([4, 2, 1, 2, 4, 3, 1, 2, 1, 1, 4, 4, 3, 5, 2, 3, 4, 4, 5, 2])"
      ]
     },
     "execution_count": 37,
     "metadata": {},
     "output_type": "execute_result"
    }
   ],
   "source": [
    "np.random.randint(1,6,20)\n"
   ]
  },
  {
   "cell_type": "code",
   "execution_count": null,
   "metadata": {
    "colab": {
     "base_uri": "https://localhost:8080/"
    },
    "executionInfo": {
     "elapsed": 79,
     "status": "ok",
     "timestamp": 1750137182363,
     "user": {
      "displayName": "Selvarani Munisamy",
      "userId": "05995875990264584122"
     },
     "user_tz": -330
    },
    "id": "J9ee8JRATSCo",
    "outputId": "d99a15d1-a0e9-4094-d0e3-9191efb9b7a9"
   },
   "outputs": [
    {
     "data": {
      "text/plain": [
       "array([ 1,  3,  5,  7,  9, 11, 13, 15, 17, 19, 21, 23, 25, 27, 29])"
      ]
     },
     "execution_count": 43,
     "metadata": {},
     "output_type": "execute_result"
    }
   ],
   "source": [
    "b=np.arange(1,30,2)\n",
    "b"
   ]
  },
  {
   "cell_type": "code",
   "execution_count": null,
   "metadata": {
    "colab": {
     "base_uri": "https://localhost:8080/"
    },
    "executionInfo": {
     "elapsed": 67,
     "status": "ok",
     "timestamp": 1750137207033,
     "user": {
      "displayName": "Selvarani Munisamy",
      "userId": "05995875990264584122"
     },
     "user_tz": -330
    },
    "id": "xq7KOAXwTR0-",
    "outputId": "6c3c751c-2357-4fce-802f-8b02dc2fce21"
   },
   "outputs": [
    {
     "data": {
      "text/plain": [
       "(15,)"
      ]
     },
     "execution_count": 44,
     "metadata": {},
     "output_type": "execute_result"
    }
   ],
   "source": [
    "b.shape"
   ]
  },
  {
   "cell_type": "code",
   "execution_count": null,
   "metadata": {
    "colab": {
     "base_uri": "https://localhost:8080/"
    },
    "executionInfo": {
     "elapsed": 109,
     "status": "ok",
     "timestamp": 1750137241698,
     "user": {
      "displayName": "Selvarani Munisamy",
      "userId": "05995875990264584122"
     },
     "user_tz": -330
    },
    "id": "QeTcNTdATqD8",
    "outputId": "924984f6-6c73-4859-d523-1441a126843b"
   },
   "outputs": [
    {
     "data": {
      "text/plain": [
       "array([[ 1,  3,  5],\n",
       "       [ 7,  9, 11],\n",
       "       [13, 15, 17],\n",
       "       [19, 21, 23],\n",
       "       [25, 27, 29]])"
      ]
     },
     "execution_count": 45,
     "metadata": {},
     "output_type": "execute_result"
    }
   ],
   "source": [
    "b.reshape(5,3)"
   ]
  },
  {
   "cell_type": "code",
   "execution_count": null,
   "metadata": {
    "colab": {
     "base_uri": "https://localhost:8080/"
    },
    "executionInfo": {
     "elapsed": 106,
     "status": "ok",
     "timestamp": 1750140475722,
     "user": {
      "displayName": "Selvarani Munisamy",
      "userId": "05995875990264584122"
     },
     "user_tz": -330
    },
    "id": "7jzpww1BgBII",
    "outputId": "9366a9b3-e065-4ebe-d409-4a5979696989"
   },
   "outputs": [
    {
     "data": {
      "text/plain": [
       "np.int64(1)"
      ]
     },
     "execution_count": 46,
     "metadata": {},
     "output_type": "execute_result"
    }
   ],
   "source": [
    "np.min(b)"
   ]
  },
  {
   "cell_type": "code",
   "execution_count": null,
   "metadata": {
    "colab": {
     "base_uri": "https://localhost:8080/"
    },
    "executionInfo": {
     "elapsed": 72,
     "status": "ok",
     "timestamp": 1750140513743,
     "user": {
      "displayName": "Selvarani Munisamy",
      "userId": "05995875990264584122"
     },
     "user_tz": -330
    },
    "id": "lF85v-2egLsF",
    "outputId": "c5a145d6-5084-479e-8593-9afd62d9fc6b"
   },
   "outputs": [
    {
     "data": {
      "text/plain": [
       "np.int64(29)"
      ]
     },
     "execution_count": 47,
     "metadata": {},
     "output_type": "execute_result"
    }
   ],
   "source": [
    "np.max(b)"
   ]
  },
  {
   "cell_type": "code",
   "execution_count": null,
   "metadata": {
    "colab": {
     "base_uri": "https://localhost:8080/"
    },
    "executionInfo": {
     "elapsed": 92,
     "status": "ok",
     "timestamp": 1750140538796,
     "user": {
      "displayName": "Selvarani Munisamy",
      "userId": "05995875990264584122"
     },
     "user_tz": -330
    },
    "id": "qLlgWt3cgQkE",
    "outputId": "54d31d37-c68b-4da2-c9a7-8baa7d8960aa"
   },
   "outputs": [
    {
     "data": {
      "text/plain": [
       "np.int64(1)"
      ]
     },
     "execution_count": 49,
     "metadata": {},
     "output_type": "execute_result"
    }
   ],
   "source": [
    "b.min()"
   ]
  },
  {
   "cell_type": "code",
   "execution_count": null,
   "metadata": {
    "colab": {
     "base_uri": "https://localhost:8080/"
    },
    "executionInfo": {
     "elapsed": 87,
     "status": "ok",
     "timestamp": 1750140550125,
     "user": {
      "displayName": "Selvarani Munisamy",
      "userId": "05995875990264584122"
     },
     "user_tz": -330
    },
    "id": "aJXgdkwmgV8X",
    "outputId": "d8abb044-2196-428c-adb7-4e2d9d0cb060"
   },
   "outputs": [
    {
     "data": {
      "text/plain": [
       "np.int64(29)"
      ]
     },
     "execution_count": 50,
     "metadata": {},
     "output_type": "execute_result"
    }
   ],
   "source": [
    "b.max()"
   ]
  },
  {
   "cell_type": "code",
   "execution_count": null,
   "metadata": {
    "colab": {
     "base_uri": "https://localhost:8080/"
    },
    "executionInfo": {
     "elapsed": 49,
     "status": "ok",
     "timestamp": 1750140572550,
     "user": {
      "displayName": "Selvarani Munisamy",
      "userId": "05995875990264584122"
     },
     "user_tz": -330
    },
    "id": "80HIqNI-gYRl",
    "outputId": "522d6477-f1d6-429f-93ec-93f78d31ac9f"
   },
   "outputs": [
    {
     "data": {
      "text/plain": [
       "np.int64(14)"
      ]
     },
     "execution_count": 51,
     "metadata": {},
     "output_type": "execute_result"
    }
   ],
   "source": [
    "b.argmax()"
   ]
  },
  {
   "cell_type": "code",
   "execution_count": null,
   "metadata": {
    "id": "G3HGQ3OUkWaT"
   },
   "outputs": [],
   "source": []
  }
 ],
 "metadata": {
  "colab": {
   "authorship_tag": "ABX9TyPTcjsbXBy7tV9uADASyC3d",
   "provenance": []
  },
  "kernelspec": {
   "display_name": "Python 3 (ipykernel)",
   "language": "python",
   "name": "python3"
  },
  "language_info": {
   "codemirror_mode": {
    "name": "ipython",
    "version": 3
   },
   "file_extension": ".py",
   "mimetype": "text/x-python",
   "name": "python",
   "nbconvert_exporter": "python",
   "pygments_lexer": "ipython3",
   "version": "3.12.7"
  }
 },
 "nbformat": 4,
 "nbformat_minor": 4
}
